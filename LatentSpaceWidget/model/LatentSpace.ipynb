{
 "cells": [
  {
   "cell_type": "markdown",
   "metadata": {
    "colab_type": "text",
    "id": "Fbg8scgvNHsd"
   },
   "source": [
    "# Create autoencoder to visualize latent space of lung CT scans with and without COVID-19\n",
    "\n",
    "Code adapted from: https://douglasduhaime.com/posts/visualizing-latent-spaces.html\n",
    "\n",
    "*Use this as a baseline to compare real images with generated images from the GAN*"
   ]
  },
  {
   "cell_type": "markdown",
   "metadata": {
    "colab_type": "text",
    "id": "WCZ1NxhGNCEc"
   },
   "source": [
    "Extract COVID CT images for dataset"
   ]
  },
  {
   "cell_type": "code",
   "execution_count": null,
   "metadata": {
    "colab": {
     "base_uri": "https://localhost:8080/",
     "height": 1000
    },
    "colab_type": "code",
    "id": "bWE32mE3l_eS",
    "outputId": "1b071ef2-04fc-40db-9cce-5635ee985338"
   },
   "outputs": [],
   "source": [
    "import tensorflow as tf\n",
    "\n",
    "import glob\n",
    "import imageio\n",
    "import matplotlib.pyplot as plt\n",
    "import numpy as np\n",
    "import os\n",
    "import PIL\n",
    "from tensorflow.keras import layers\n",
    "import time\n",
    "import zipfile\n",
    "import pandas as pd\n",
    "from IPython import display\n",
    "from PIL import Image\n",
    "from imutils import paths\n",
    "import os\n",
    "import glob\n",
    "import cv2\n",
    "from matplotlib import image\n",
    "\n",
    "from google.colab import drive\n",
    "drive.mount('/content/gdrive')\n",
    "\n",
    "Dataset = \"CT_COVID\"\n",
    "\n",
    "# !pwd\n",
    "# Will unzip the files so that you can see them..\n",
    "with zipfile.ZipFile(\"/content/gdrive/My Drive/\"+Dataset+\".zip\",\"r\") as z:\n",
    "    z.extractall(\"/gdrive/Data\")\n",
    "\n",
    "from subprocess import check_output\n",
    "print(check_output([\"ls\", \"/gdrive/Data/CT_COVID\"]).decode(\"utf8\"))\n",
    "\n",
    "\n",
    "# link used: https://www.pyimagesearch.com/2019/01/14/machine-learning-in-python/\n",
    "os.chdir(\"/gdrive/Data/CT_COVID\")\n",
    "!pwd\n",
    "\n",
    "path = \"*.*\"\n",
    "data = []\n",
    "for file in glob.glob(path):\n",
    "  if(file.find(\"image_at_epoch\") == -1):\n",
    "    img_data = image.imread(file, 0)\n",
    "    # print(img_data.shape)\n",
    "    data.append(img_data)  \n"
   ]
  },
  {
   "cell_type": "markdown",
   "metadata": {
    "colab_type": "text",
    "id": "_hhodhT3NsJx"
   },
   "source": [
    "Extract non-COVID CT scans for dataset"
   ]
  },
  {
   "cell_type": "code",
   "execution_count": null,
   "metadata": {
    "colab": {
     "base_uri": "https://localhost:8080/",
     "height": 1000
    },
    "colab_type": "code",
    "id": "sEt5AQKMtWrF",
    "outputId": "8890d17f-5f08-42ad-af43-c32b216bbd57"
   },
   "outputs": [],
   "source": [
    "Dataset = \"CT_NonCOVID\"\n",
    "\n",
    "with zipfile.ZipFile(\"/content/gdrive/My Drive/\"+Dataset+\".zip\",\"r\") as z:\n",
    "    z.extractall(\"/gdrive/Data\")\n",
    "\n",
    "from subprocess import check_output\n",
    "print(check_output([\"ls\", \"/gdrive/Data/CT_NonCOVID\"]).decode(\"utf8\"))\n",
    "\n",
    "# link used: https://www.pyimagesearch.com/2019/01/14/machine-learning-in-python/\n",
    "os.chdir(\"/gdrive/Data/CT_NonCOVID\")\n",
    "!pwd\n",
    "\n",
    "path = \"*.*\"\n",
    "for file in glob.glob(path):\n",
    "  if(file.find(\"image_at_epoch\") == -1):\n",
    "    img_data = image.imread(file, 0)\n",
    "    # print(img_data.shape)\n",
    "\n",
    "data = np.array(data)"
   ]
  },
  {
   "cell_type": "markdown",
   "metadata": {
    "colab_type": "text",
    "id": "EQr1BTmvN8UX"
   },
   "source": [
    "Create autoencoder class"
   ]
  },
  {
   "cell_type": "code",
   "execution_count": null,
   "metadata": {
    "colab": {},
    "colab_type": "code",
    "id": "GBx9YmJymu23"
   },
   "outputs": [],
   "source": [
    "from keras.models import Model\n",
    "from keras.layers import Input, Reshape, Dense, Flatten\n",
    "\n",
    "class Autoencoder:\n",
    "  def __init__(self, img_shape=(128, 128), latent_dim=2, n_layers=5, n_units=128):\n",
    "    if not img_shape: raise Exception('Please provide img_shape (height, width) in px')\n",
    "\n",
    "    # create the encoder\n",
    "    i = h = Input(img_shape) # the encoder takes as input images\n",
    "    h = Flatten()(h) # flatten the image into a 1D vector\n",
    "    for _ in range(n_layers): # add the \"hidden\" layers\n",
    "      h = Dense(n_units)(h) # add the units in the ith hidden layer\n",
    "    o = Dense(latent_dim)(h) # this layer indicates the lower dimensional size\n",
    "    self.encoder = Model(inputs=[i], outputs=[o])\n",
    "\n",
    "    # create the decoder\n",
    "    i = h = Input((latent_dim,)) # the decoder takes as input lower dimensional vectors\n",
    "    for _ in range(n_layers): # add the \"hidden\" layers\n",
    "      h = Dense(n_units)(h) # add the units in the ith hidden layer\n",
    "    h = Dense(img_shape[0] * img_shape[1])(h) # one unit per pixel in inputs\n",
    "    o = Reshape(img_shape)(h) # create outputs with the shape of input images\n",
    "    self.decoder = Model(inputs=[i], outputs=[o])\n",
    "\n",
    "    # combine the encoder and decoder into a full autoencoder\n",
    "    i = Input(img_shape) # take as input image vectors\n",
    "    z = self.encoder(i) # push observations into latent space\n",
    "    o = self.decoder(z) # project from latent space to feature space\n",
    "    self.model = Model(inputs=[i], outputs=[o])\n",
    "    self.model.compile(loss='mse', optimizer='adam')\n",
    "\n",
    "autoencoder = Autoencoder()"
   ]
  },
  {
   "cell_type": "markdown",
   "metadata": {
    "colab_type": "text",
    "id": "4e18TXexOAwx"
   },
   "source": [
    "Data preprocessing: convert to grayscale, resize to 128x128, flip left to right for more dense dataset"
   ]
  },
  {
   "cell_type": "code",
   "execution_count": null,
   "metadata": {
    "colab": {
     "base_uri": "https://localhost:8080/",
     "height": 34
    },
    "colab_type": "code",
    "id": "4FpUdy8inCJp",
    "outputId": "4a6e4454-bad4-438b-8b9e-21e119e1c5df"
   },
   "outputs": [],
   "source": [
    "from skimage.color import rgb2gray\n",
    "WIDTH=128\n",
    "HEIGHT=128\n",
    "standardized_data = []\n",
    "for img in data:\n",
    "  #print(img.shape)\n",
    "  img = rgb2gray(img)\n",
    "  img2 = np.flip(img, axis=1) ## ADD FLIPPED IMAGE FOR LARGER DATA SET\n",
    "  standardized_data.append(cv2.resize(img, (WIDTH,HEIGHT), interpolation=cv2.INTER_CUBIC).astype('float32'))\n",
    "  standardized_data.append(cv2.resize(img2, (WIDTH,HEIGHT), interpolation=cv2.INTER_CUBIC).astype('float32'))\n",
    "train_images = np.array(standardized_data)\n",
    "train_images = train_images.reshape(train_images.shape[0], WIDTH,HEIGHT).astype('float32')\n",
    "\n",
    "print(train_images.shape)"
   ]
  },
  {
   "cell_type": "markdown",
   "metadata": {
    "colab_type": "text",
    "id": "N7qilorPOQ4C"
   },
   "source": [
    "Train images with autoencoder for 100 epochs"
   ]
  },
  {
   "cell_type": "code",
   "execution_count": null,
   "metadata": {
    "colab": {
     "base_uri": "https://localhost:8080/",
     "height": 1000
    },
    "colab_type": "code",
    "id": "gDPY_l2Om9ti",
    "outputId": "da54a170-82f1-4065-b10a-58b30f8df4d8"
   },
   "outputs": [],
   "source": [
    "autoencoder.model.fit(train_images, train_images, batch_size=64, epochs=100)"
   ]
  },
  {
   "cell_type": "markdown",
   "metadata": {
    "colab_type": "text",
    "id": "PgTq1S8-OY2h"
   },
   "source": [
    "Plot latent space"
   ]
  },
  {
   "cell_type": "code",
   "execution_count": null,
   "metadata": {
    "colab": {
     "base_uri": "https://localhost:8080/",
     "height": 267
    },
    "colab_type": "code",
    "id": "Ow-I4n2Wnj8u",
    "outputId": "0c3e3d3c-345c-4a51-9a5c-e72db8fb1e89",
    "scrolled": true
   },
   "outputs": [],
   "source": [
    "import matplotlib.pyplot as plt\n",
    "\n",
    "# transform each input image into the latent space\n",
    "z = autoencoder.encoder.predict(train_images)\n",
    "\n",
    "# plot the latent space\n",
    "plt.scatter(z[:,0], z[:,1], marker='o', s=0.1, c='#d53a26')\n",
    "plt.show()"
   ]
  },
  {
   "cell_type": "markdown",
   "metadata": {
    "colab_type": "text",
    "id": "O41Ow1cCOcbE"
   },
   "source": [
    "Sample from latent space to visualize"
   ]
  },
  {
   "cell_type": "code",
   "execution_count": 10,
   "metadata": {
    "colab": {
     "base_uri": "https://localhost:8080/",
     "height": 285
    },
    "colab_type": "code",
    "id": "Vk2vECLqnrSo",
    "outputId": "30f3e4e6-ba3a-4e06-fcea-7473ae0d070c"
   },
   "outputs": [
    {
     "data": {
      "text/plain": [
       "<matplotlib.image.AxesImage at 0x7f5111c00a58>"
      ]
     },
     "execution_count": 10,
     "metadata": {
      "tags": []
     },
     "output_type": "execute_result"
    },
    {
     "data": {
      "image/png": "[encoded data removed]",
      "text/plain": [
       "<Figure size 432x288 with 1 Axes>"
      ]
     },
     "metadata": {
      "needs_background": "light",
      "tags": []
     },
     "output_type": "display_data"
    }
   ],
   "source": [
    "# sample from any coordinate region to visualize\n",
    "y = np.array([[0, -110]])\n",
    "prediction = autoencoder.decoder.predict(y)\n",
    "plt.imshow(prediction.squeeze(), cmap='gray')"
   ]
  },
  {
   "cell_type": "markdown",
   "metadata": {
    "colab_type": "text",
    "id": "3lggxVtdOgnH"
   },
   "source": [
    "Install TensorflowJS for compatibility with HTML widget"
   ]
  },
  {
   "cell_type": "code",
   "execution_count": null,
   "metadata": {
    "colab": {
     "base_uri": "https://localhost:8080/",
     "height": 156
    },
    "colab_type": "code",
    "id": "4p6rO39xw0_A",
    "outputId": "c875f472-f117-4483-ccb6-cab33ab89149"
   },
   "outputs": [],
   "source": [
    "!pip install -q tensorflowjs"
   ]
  },
  {
   "cell_type": "markdown",
   "metadata": {
    "colab_type": "text",
    "id": "STgPtCKiOlyd"
   },
   "source": [
    "Save models"
   ]
  },
  {
   "cell_type": "code",
   "execution_count": null,
   "metadata": {
    "colab": {
     "base_uri": "https://localhost:8080/",
     "height": 88
    },
    "colab_type": "code",
    "id": "YnstDmzUvBp0",
    "outputId": "28f15a5f-8168-4ca6-81fb-c75283e7e2f1"
   },
   "outputs": [],
   "source": [
    "import tensorflowjs as tfjs\n",
    "\n",
    "path = !pwd\n",
    "model_name = 'covidLatentSpace2' # string used to define filename of saved model\n",
    "autoencoder.decoder.save(model_name + '-decoder.hdf5')\n",
    "tfjs.converters.save_keras_model(autoencoder.decoder, str(path))\n",
    "\n",
    "!pwd"
   ]
  }
 ],
 "metadata": {
  "colab": {
   "collapsed_sections": [],
   "name": "LatentSpace.ipynb",
   "provenance": [],
   "toc_visible": true
  },
  "kernelspec": {
   "display_name": "Python 3",
   "language": "python",
   "name": "python3"
  },
  "language_info": {
   "codemirror_mode": {
    "name": "ipython",
    "version": 3
   },
   "file_extension": ".py",
   "mimetype": "text/x-python",
   "name": "python",
   "nbconvert_exporter": "python",
   "pygments_lexer": "ipython3",
   "version": "3.7.4"
  }
 },
 "nbformat": 4,
 "nbformat_minor": 1
}
