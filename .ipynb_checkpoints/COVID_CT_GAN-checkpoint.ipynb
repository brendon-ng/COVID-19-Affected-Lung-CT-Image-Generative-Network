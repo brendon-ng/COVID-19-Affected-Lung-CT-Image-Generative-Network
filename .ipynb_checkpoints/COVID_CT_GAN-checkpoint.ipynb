{
 "cells": [
  {
   "cell_type": "markdown",
   "metadata": {
    "colab_type": "text",
    "id": "70qibPfN3QAC"
   },
   "source": [
    "#Import Dependencies"
   ]
  },
  {
   "cell_type": "code",
   "execution_count": 0,
   "metadata": {
    "colab": {},
    "colab_type": "code",
    "id": "oaBEZ3RjOnuA"
   },
   "outputs": [],
   "source": [
    "import tensorflow as tf\n",
    "import glob\n",
    "import matplotlib.pyplot as plt\n",
    "import numpy as np\n",
    "import os\n",
    "from tensorflow.keras import layers\n",
    "import time\n",
    "import zipfile\n",
    "from IPython import display\n",
    "import os\n",
    "import cv2\n",
    "from matplotlib import image"
   ]
  },
  {
   "cell_type": "markdown",
   "metadata": {
    "colab_type": "text",
    "id": "Q6y5QnHK3NDi"
   },
   "source": [
    "# Hyperparameters"
   ]
  },
  {
   "cell_type": "code",
   "execution_count": 0,
   "metadata": {
    "colab": {},
    "colab_type": "code",
    "id": "XvhPK1xQO4RD"
   },
   "outputs": [],
   "source": [
    "#### HYPER PARAMETERS\n",
    "BUFFER_SIZE = 60000\n",
    "BATCH_SIZE = 50\n",
    "EPOCHS = 5000\n",
    "noise_dim = 100\n",
    "\n",
    "# We will reuse this seed overtime (so it's easier)\n",
    "# to visualize progress in the animated GIF)\n",
    "seed = tf.random.normal([1, noise_dim])"
   ]
  },
  {
   "cell_type": "markdown",
   "metadata": {
    "colab_type": "text",
    "id": "9jtxJweQ1YhW"
   },
   "source": [
    "#Mount Google Drive\n",
    "To get access to dataset and for model saving"
   ]
  },
  {
   "cell_type": "code",
   "execution_count": 0,
   "metadata": {
    "colab": {
     "base_uri": "https://localhost:8080/",
     "height": 122
    },
    "colab_type": "code",
    "id": "u_s9V1T39SHO",
    "outputId": "cc200864-b332-4e74-e5aa-07c717f01101"
   },
   "outputs": [
    {
     "name": "stdout",
     "output_type": "stream",
     "text": [
      "Go to this URL in a browser: https://accounts.google.com/o/oauth2/auth?client_id=947318989803-6bn6qk8qdgf4n4g3pfee6491hc0brc4i.apps.googleusercontent.com&redirect_uri=urn%3aietf%3awg%3aoauth%3a2.0%3aoob&response_type=code&scope=email%20https%3a%2f%2fwww.googleapis.com%2fauth%2fdocs.test%20https%3a%2f%2fwww.googleapis.com%2fauth%2fdrive%20https%3a%2f%2fwww.googleapis.com%2fauth%2fdrive.photos.readonly%20https%3a%2f%2fwww.googleapis.com%2fauth%2fpeopleapi.readonly\n",
      "\n",
      "Enter your authorization code:\n",
      "··········\n",
      "Mounted at /content/gdrive\n"
     ]
    }
   ],
   "source": [
    "from google.colab import drive\n",
    "drive.mount('/content/gdrive')\n"
   ]
  },
  {
   "cell_type": "markdown",
   "metadata": {
    "colab_type": "text",
    "id": "IXwxDUBp1hKb"
   },
   "source": [
    "#Unzip and create dataset with images"
   ]
  },
  {
   "cell_type": "markdown",
   "metadata": {
    "colab_type": "text",
    "id": "NmyL0RYt1tXH"
   },
   "source": [
    "Extract data from zip file.  \n",
    "Assumes all images are in \"My Drive\" that was mounted in the form of a zip file with name (without .zip extension) specified by \"Dataset\""
   ]
  },
  {
   "cell_type": "code",
   "execution_count": 0,
   "metadata": {
    "colab": {
     "base_uri": "https://localhost:8080/",
     "height": 34
    },
    "colab_type": "code",
    "id": "44zusYCR9Yya",
    "outputId": "5fbce2a5-4a4d-41ac-dcd0-1bec94aea7d2"
   },
   "outputs": [
    {
     "name": "stdout",
     "output_type": "stream",
     "text": [
      "/content\n"
     ]
    }
   ],
   "source": [
    "Dataset = \"CT_COVID\"\n",
    "\n",
    "!pwd\n",
    "# Will unzip the files so that you can see them..\n",
    "with zipfile.ZipFile(\"/content/gdrive/My Drive/\"+Dataset+\".zip\",\"r\") as z:\n",
    "    z.extractall(\"/gdrive/Data\")\n",
    "\n",
    "from subprocess import check_output\n",
    "#print(check_output([\"ls\", \"/gdrive/Data/CT_COVID\"]).decode(\"utf8\"))"
   ]
  },
  {
   "cell_type": "markdown",
   "metadata": {
    "colab_type": "text",
    "id": "w7KaJlME2Rur"
   },
   "source": [
    "Read image data in from unzipped directory"
   ]
  },
  {
   "cell_type": "code",
   "execution_count": 0,
   "metadata": {
    "colab": {},
    "colab_type": "code",
    "id": "vF2P92bL9yle"
   },
   "outputs": [],
   "source": [
    "# link used: https://www.pyimagesearch.com/2019/01/14/machine-learning-in-python/\n",
    "os.chdir(\"/gdrive/Data/CT_COVID\")\n",
    "\n",
    "path = \"*.*\"\n",
    "data = []\n",
    "for file in glob.glob(path):\n",
    "  if(file.find(\"image_at_epoch\") == -1):\n",
    "    img_data = image.imread(file, 0)\n",
    "    data.append(img_data)  \n",
    "data = np.array(data)"
   ]
  },
  {
   "cell_type": "markdown",
   "metadata": {
    "colab_type": "text",
    "id": "Fk3oSuU72Xj1"
   },
   "source": [
    "Convert images to proper size and format.  \n",
    "Also, add horizontally flipped image to double the size of the dataset"
   ]
  },
  {
   "cell_type": "code",
   "execution_count": 0,
   "metadata": {
    "colab": {
     "base_uri": "https://localhost:8080/",
     "height": 34
    },
    "colab_type": "code",
    "id": "byTCgz6Y--pT",
    "outputId": "f99c4e2f-808f-4b77-f3cc-6311cd2a4758"
   },
   "outputs": [
    {
     "name": "stdout",
     "output_type": "stream",
     "text": [
      "(698, 128, 128, 1)\n"
     ]
    }
   ],
   "source": [
    "from skimage.color import rgb2gray\n",
    "WIDTH=128\n",
    "HEIGHT=128\n",
    "standardized_data = []\n",
    "for img in data:\n",
    "  img = rgb2gray(img)\n",
    "  img2 = np.flip(img, axis=1) ## ADD FLIPPED IMAGE FOR LARGER DATA SET\n",
    "  standardized_data.append(cv2.resize(img, (WIDTH,HEIGHT), interpolation=cv2.INTER_CUBIC).astype('float32'))\n",
    "  standardized_data.append(cv2.resize(img2, (WIDTH,HEIGHT), interpolation=cv2.INTER_CUBIC).astype('float32'))\n",
    "train_images = np.array(standardized_data)\n",
    "train_images = train_images.reshape(train_images.shape[0], 128,128,1).astype('float32')\n",
    "print(train_images.shape)"
   ]
  },
  {
   "cell_type": "markdown",
   "metadata": {
    "colab_type": "text",
    "id": "khnwXGxB2hmf"
   },
   "source": [
    "Normalize Images to [-1,1]"
   ]
  },
  {
   "cell_type": "code",
   "execution_count": 0,
   "metadata": {
    "colab": {
     "base_uri": "https://localhost:8080/",
     "height": 285
    },
    "colab_type": "code",
    "id": "x8dTxPWrO04X",
    "outputId": "c36b5230-1ea0-463d-a2c4-5996ac876709"
   },
   "outputs": [
    {
     "data": {
      "text/plain": [
       "<matplotlib.image.AxesImage at 0x7f823c2c3a20>"
      ]
     },
     "execution_count": 7,
     "metadata": {
      "tags": []
     },
     "output_type": "execute_result"
    },
    {
     "data": {
      "image/png": "[encoded data removed]",
      "text/plain": [
       "<Figure size 432x288 with 1 Axes>"
      ]
     },
     "metadata": {
      "needs_background": "light",
      "tags": []
     },
     "output_type": "display_data"
    }
   ],
   "source": [
    "train_images = (train_images - 127.5) / 127.5  # Normalize the images to [-1, 1]\n",
    "checker = train_images # np.reshape(train_images, (2164,28,28))\n",
    "plt.imshow(checker[5,:,:,0])"
   ]
  },
  {
   "cell_type": "markdown",
   "metadata": {
    "colab_type": "text",
    "id": "AwUfGsvv2xKc"
   },
   "source": [
    "#Defining the Model"
   ]
  },
  {
   "cell_type": "code",
   "execution_count": 0,
   "metadata": {
    "colab": {},
    "colab_type": "code",
    "id": "FkH3lliIo9gA"
   },
   "outputs": [],
   "source": [
    "def make_generator_model():\n",
    "    model = tf.keras.Sequential()\n",
    "    model.add(layers.Dense(4*4*1024, use_bias=False, input_shape=(100,)))\n",
    "    model.add(layers.BatchNormalization())\n",
    "    model.add(layers.LeakyReLU())\n",
    "\n",
    "    model.add(layers.Reshape((4, 4, 1024)))\n",
    "    assert model.output_shape == (None, 4, 4, 1024) # Note: None is the batch size\n",
    "\n",
    "    model.add(layers.Conv2DTranspose(512, (5, 5), strides=(2, 2), padding='same', use_bias=False))\n",
    "    assert model.output_shape == (None, 8, 8, 512)\n",
    "    model.add(layers.BatchNormalization())\n",
    "    model.add(layers.LeakyReLU())\n",
    "\n",
    "    model.add(layers.Conv2DTranspose(256, (5, 5), strides=(2, 2), padding='same', use_bias=False))\n",
    "    assert model.output_shape == (None, 16, 16, 256)\n",
    "    model.add(layers.BatchNormalization())\n",
    "    model.add(layers.LeakyReLU())\n",
    "\n",
    "    model.add(layers.Conv2DTranspose(128, (5, 5), strides=(2, 2), padding='same', use_bias=False))\n",
    "    assert model.output_shape == (None, 32, 32, 128)\n",
    "    model.add(layers.BatchNormalization())\n",
    "    model.add(layers.LeakyReLU())\n",
    "\n",
    "    model.add(layers.Conv2DTranspose(64, (5, 5), strides=(2, 2), padding='same', use_bias=False))\n",
    "    assert model.output_shape == (None, 64, 64, 64)\n",
    "    model.add(layers.BatchNormalization())\n",
    "    model.add(layers.LeakyReLU())\n",
    "\n",
    "    model.add(layers.Conv2DTranspose(1, (5, 5), strides=(2, 2), padding='same', use_bias=False))\n",
    "    assert model.output_shape == (None, 128, 128, 1)\n",
    "\n",
    "    model.add(layers.Flatten())\n",
    "    model.add(layers.Dense(128*128, use_bias=False, activation = 'tanh'))\n",
    "    model.add(layers.Reshape((128,128,1)))\n",
    "    print(model.output_shape)\n",
    "\n",
    "    return model"
   ]
  },
  {
   "cell_type": "code",
   "execution_count": 0,
   "metadata": {
    "colab": {},
    "colab_type": "code",
    "id": "sGYTxmWjtv9L"
   },
   "outputs": [],
   "source": [
    "def make_discriminator_model():\n",
    "    model = tf.keras.Sequential()\n",
    "    model.add(layers.Conv2D(64, (5, 5), strides=(2, 2), padding='same',\n",
    "                                     input_shape=[128, 128, 1]))\n",
    "    assert model.output_shape == (None, 64, 64, 64)\n",
    "    model.add(layers.LeakyReLU(0.2))\n",
    "    model.add(layers.Dropout(0.3))\n",
    "\n",
    "    model.add(layers.Conv2D(128, (5, 5), strides=(2, 2), padding='same'))\n",
    "    assert model.output_shape == (None, 32, 32, 128)\n",
    "    model.add(layers.LeakyReLU(0.2))\n",
    "    model.add(layers.Dropout(0.3))\n",
    "\n",
    "    model.add(layers.Conv2D(256, (5, 5), strides=(2, 2), padding='same'))\n",
    "    assert model.output_shape == (None, 16, 16, 256)\n",
    "    model.add(layers.LeakyReLU(0.2))\n",
    "    model.add(layers.Dropout(0.3))\n",
    "\n",
    "    model.add(layers.Conv2D(512, (5, 5), strides=(2, 2), padding='same'))\n",
    "    assert model.output_shape == (None, 8, 8, 512)\n",
    "    model.add(layers.LeakyReLU(0.2))\n",
    "    model.add(layers.Dropout(0.3))\n",
    "\n",
    "    model.add(layers.Conv2D(1024, (5, 5), strides=(2, 2), padding='same'))\n",
    "    assert model.output_shape == (None, 4, 4, 1024)\n",
    "    model.add(layers.LeakyReLU(0.2))\n",
    "    model.add(layers.Dropout(0.3))\n",
    "\n",
    "    model.add(layers.Flatten())\n",
    "    model.add(layers.Dropout(0.3))\n",
    "    model.add(layers.Dense(64))\n",
    "    model.add(layers.Dense(32))\n",
    "    model.add(layers.Dense(16))\n",
    "    model.add(layers.Dense(1, activation=\"sigmoid\"))\n",
    "\n",
    "    opt = tf.keras.optimizers.Adam(1e-4)\n",
    "    model.compile(loss = 'binary_crossentropy', optimizer=opt, metrics=['accuracy'])\n",
    "    return model"
   ]
  },
  {
   "cell_type": "code",
   "execution_count": 0,
   "metadata": {
    "colab": {},
    "colab_type": "code",
    "id": "Yrtla8R6_mNs"
   },
   "outputs": [],
   "source": [
    "def make_gan(g_model, d_model):\n",
    "  d_model.trainable = False\n",
    "  model = tf.keras.Sequential()\n",
    "  model.add(g_model)\n",
    "  model.add(d_model)\n",
    "\n",
    "  opt = tf.keras.optimizers.Adam(1e-4)\n",
    "  model.compile(loss='binary_crossentropy', optimizer=opt)\n",
    "  return model"
   ]
  },
  {
   "cell_type": "code",
   "execution_count": 0,
   "metadata": {
    "colab": {},
    "colab_type": "code",
    "id": "od4zMOacApwG"
   },
   "outputs": [],
   "source": [
    "def generate_real_samples(dataset, n_samples):\n",
    "  ix = np.random.randint(0, dataset.shape[0], n_samples)\n",
    "  X = dataset[ix]\n",
    "  y = np.ones((n_samples, 1))\n",
    "  return X,y"
   ]
  },
  {
   "cell_type": "code",
   "execution_count": 0,
   "metadata": {
    "colab": {},
    "colab_type": "code",
    "id": "YRU3AMIuBJ8r"
   },
   "outputs": [],
   "source": [
    "def generate_latent_points(latent_dim, n_samples):\n",
    "  x_input = np.random.randn(latent_dim*n_samples)\n",
    "  x_input = x_input.reshape(n_samples, latent_dim)\n",
    "  return x_input"
   ]
  },
  {
   "cell_type": "code",
   "execution_count": 0,
   "metadata": {
    "colab": {},
    "colab_type": "code",
    "id": "g3_22uu0BXTW"
   },
   "outputs": [],
   "source": [
    "def generate_fake_samples(g_model, latent_dim, n_samples):\n",
    "  x_input = generate_latent_points(latent_dim, n_samples)\n",
    "  X = g_model.predict(x_input)\n",
    "  y = np.zeros((n_samples, 1))\n",
    "  return X,y"
   ]
  },
  {
   "cell_type": "markdown",
   "metadata": {
    "colab_type": "text",
    "id": "AkpYKpy524Nn"
   },
   "source": [
    "#Define Training Protocol"
   ]
  },
  {
   "cell_type": "code",
   "execution_count": 0,
   "metadata": {
    "colab": {},
    "colab_type": "code",
    "id": "jmSuRs4RBuib"
   },
   "outputs": [],
   "source": [
    "def train(g_model, d_model, gan_model, dataset, latent_dim, n_epochs, batch_size):\n",
    "  genLoss = 0\n",
    "  discLoss = 0\n",
    "  batch_per_epoch = int(dataset.shape[0]/batch_size)\n",
    "  half_batch = int(batch_size/2)\n",
    "  best_g_model = g_model\n",
    "  best_genLoss = 10\n",
    "  for epoch in range(n_epochs):\n",
    "    start = time.time()\n",
    "    for i in range(batch_per_epoch):\n",
    "      X_real, y_real = generate_real_samples(dataset,half_batch)\n",
    "      d_loss1, _ = d_model.train_on_batch(X_real, y_real)\n",
    "\n",
    "      X_fake, y_fake = generate_fake_samples(g_model, latent_dim, half_batch)\n",
    "      d_loss2, _ = d_model.train_on_batch(X_fake, y_fake)\n",
    "\n",
    "      discLoss = (d_loss1 + d_loss2)/2\n",
    "\n",
    "      X_gan = generate_latent_points(latent_dim, batch_size)\n",
    "      y_gan = np.ones((batch_size, 1))\n",
    "      genLoss = gan_model.train_on_batch(X_gan, y_gan)\n",
    "  \n",
    "    # Produce images for the GIF as we go\n",
    "    display.clear_output(wait=True)\n",
    "    generate_and_save_images(g_model,\n",
    "                             epoch + 1,\n",
    "                             seed)\n",
    "    \n",
    "    ### PERFORMANCE CHECK\n",
    "    X_real, y_real = generate_real_samples(dataset, 100)\n",
    "    _, acc_real = d_model.evaluate(X_real, y_real, verbose=0)\n",
    "    X_fake, y_fake = generate_fake_samples(g_model, latent_dim, 100)\n",
    "    _, acc_fake = d_model.evaluate(X_fake, y_fake, verbose=0)\n",
    "    print(\"Disc Accuracy Real: %.5f, fake: %.5f\" % (acc_real, acc_fake))\n",
    "    print(\"genloss: {} discloss: {}\".format(genLoss, discLoss))\n",
    "    if (epoch > 2./3. * n_epochs):\n",
    "      if (genLoss < best_genLoss and acc_real > 0.9 and acc_fake > 0.9):\n",
    "        best_genLoss = genLoss\n",
    "        best_g_model = g_model\n",
    "\n",
    "    # Save the model every 100 epochs\n",
    "    if epoch%100 == 0:\n",
    "      g_model.save(\"/content/gdrive/My Drive/168/generator_intermediate\")\n",
    "      d_model.save(\"/content/gdrive/My Drive/168/discriminator_intermediate\")\n",
    "\n",
    "    genloss.append(genLoss)\n",
    "    discloss.append(discLoss)\n",
    "    accReal.append(acc_real)\n",
    "    accFake.append(acc_fake)\n",
    "    print ('Time for epoch {} is {} sec'.format(epoch + 1, time.time()-start))\n",
    "  \n",
    "  # Generate after the final epoch\n",
    "  display.clear_output(wait=True)\n",
    "  generate_and_save_images(g_model,\n",
    "                           n_epochs,\n",
    "                           seed)\n",
    "  return best_g_model"
   ]
  },
  {
   "cell_type": "code",
   "execution_count": 0,
   "metadata": {
    "colab": {},
    "colab_type": "code",
    "id": "59xNCCtxP6A6"
   },
   "outputs": [],
   "source": [
    "def generate_and_save_images(model, epoch, test_input):\n",
    "  # Notice `training` is set to False.\n",
    "  # This is so all layers run in inference mode (batchnorm).\n",
    "  predictions = model(test_input, training=False)\n",
    "\n",
    "  fig = plt.figure(figsize=(4,4))\n",
    "\n",
    "  for i in range(predictions.shape[0]):\n",
    "      plt.subplot(4, 4, i+1)\n",
    "      plt.imshow(predictions[i, :, :, 0] * 127.5 + 127.5, cmap='gray')\n",
    "      plt.axis('off')\n",
    "  plt.show()"
   ]
  },
  {
   "cell_type": "markdown",
   "metadata": {
    "colab_type": "text",
    "id": "h2SUnR45zFxt"
   },
   "source": [
    "# Perform Training"
   ]
  },
  {
   "cell_type": "code",
   "execution_count": 0,
   "metadata": {
    "colab": {
     "base_uri": "https://localhost:8080/",
     "height": 129
    },
    "colab_type": "code",
    "id": "Kf8uy4nKP8h5",
    "outputId": "d192a724-f682-4b9f-a898-d8ea3d1e3618"
   },
   "outputs": [
    {
     "data": {
      "image/png": "[encoded data removed]",
      "text/plain": [
       "<Figure size 288x288 with 1 Axes>"
      ]
     },
     "metadata": {
      "needs_background": "light",
      "tags": []
     },
     "output_type": "display_data"
    },
    {
     "name": "stdout",
     "output_type": "stream",
     "text": [
      "Disc Accuracy Real: 1.00000, fake: 1.00000\n",
      "genloss: 8.647979736328125 discloss: 7.860743016863125e-05\n",
      "Time for epoch 1368 is 3.73166823387146 sec\n"
     ]
    }
   ],
   "source": [
    "genloss = []\n",
    "discloss = []\n",
    "accReal = []\n",
    "accFake = []\n",
    "d_model = make_discriminator_model()\n",
    "g_model = make_generator_model()\n",
    "gan_model = make_gan(g_model, d_model)\n",
    "generator = train(g_model, d_model, gan_model, train_images, noise_dim, EPOCHS, BATCH_SIZE)\n",
    "\n",
    "g_model.save(\"/content/gdrive/My Drive/168/generator_final\")\n",
    "d_model.save(\"/content/gdrive/My Drive/168/discriminator_final\")"
   ]
  },
  {
   "cell_type": "markdown",
   "metadata": {
    "colab_type": "text",
    "id": "vRP6SlIv3B2k"
   },
   "source": [
    "#Explore Results"
   ]
  },
  {
   "cell_type": "markdown",
   "metadata": {
    "colab_type": "text",
    "id": "LUb145zA3DUe"
   },
   "source": [
    "Line Plots of the generator and discriminator loss over epochs"
   ]
  },
  {
   "cell_type": "code",
   "execution_count": 0,
   "metadata": {
    "colab": {},
    "colab_type": "code",
    "id": "ulUlCBDPVty5"
   },
   "outputs": [],
   "source": [
    "plt.plot(range(EPOCHS), discloss, label='disc loss')\n",
    "plt.plot(range(EPOCHS), genloss, label='gen loss')\n",
    "plt.xlabel('Epoch')\n",
    "plt.ylim(-1,5)\n",
    "plt.ylabel('Loss value') \n",
    "plt.legend()\n",
    "plt.show()"
   ]
  },
  {
   "cell_type": "markdown",
   "metadata": {
    "colab_type": "text",
    "id": "Xb4_4hc63xm3"
   },
   "source": [
    "Line Plots of the discrimiantor accuracy on real and fake images over epochs"
   ]
  },
  {
   "cell_type": "code",
   "execution_count": 0,
   "metadata": {
    "colab": {},
    "colab_type": "code",
    "id": "TGZghG4CribN"
   },
   "outputs": [],
   "source": [
    "plt.plot(range(EPOCHS), accReal, label='accuracy Real')\n",
    "plt.plot(range(EPOCHS), accFake, label='accuracy Fake')\n",
    "plt.xlabel('Epoch')\n",
    "plt.ylim(0,1)\n",
    "plt.ylabel('Accuracy')\n",
    "plt.legend()\n",
    "plt.show()"
   ]
  },
  {
   "cell_type": "markdown",
   "metadata": {
    "colab_type": "text",
    "id": "QqgUNhLK39Pn"
   },
   "source": [
    "Generate Random Images"
   ]
  },
  {
   "cell_type": "code",
   "execution_count": 0,
   "metadata": {
    "colab": {},
    "colab_type": "code",
    "id": "keOfh9dhQf6V"
   },
   "outputs": [],
   "source": [
    "noise = tf.random.normal([1, 100])\n",
    "generated_image0 = generator.predict(noise)\n",
    "\n",
    "plt.imshow(generated_image0[0, :, :, 0], cmap='gray')\n",
    "plt.show()"
   ]
  }
 ],
 "metadata": {
  "accelerator": "GPU",
  "colab": {
   "collapsed_sections": [],
   "name": "Final_COVID19GAN.ipynb",
   "provenance": []
  },
  "kernelspec": {
   "display_name": "Python 3",
   "language": "python",
   "name": "python3"
  },
  "language_info": {
   "codemirror_mode": {
    "name": "ipython",
    "version": 3
   },
   "file_extension": ".py",
   "mimetype": "text/x-python",
   "name": "python",
   "nbconvert_exporter": "python",
   "pygments_lexer": "ipython3",
   "version": "3.7.4"
  }
 },
 "nbformat": 4,
 "nbformat_minor": 1
}
