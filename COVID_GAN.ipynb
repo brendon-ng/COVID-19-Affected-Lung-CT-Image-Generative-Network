{
  "nbformat": 4,
  "nbformat_minor": 0,
  "metadata": {
    "colab": {
      "name": "Final_COVID19GAN.ipynb",
      "provenance": [],
      "collapsed_sections": []
    },
    "kernelspec": {
      "name": "python3",
      "display_name": "Python 3"
    },
    "accelerator": "GPU"
  },
  "cells": [
    {
      "cell_type": "markdown",
      "metadata": {
        "id": "70qibPfN3QAC",
        "colab_type": "text"
      },
      "source": [
        "# Import Dependencies"
      ]
    },
    {
      "cell_type": "code",
      "metadata": {
        "id": "oaBEZ3RjOnuA",
        "colab_type": "code",
        "colab": {}
      },
      "source": [
        "import tensorflow as tf\n",
        "import glob\n",
        "import matplotlib.pyplot as plt\n",
        "import numpy as np\n",
        "import os\n",
        "from tensorflow.keras import layers\n",
        "import time\n",
        "import zipfile\n",
        "from IPython import display\n",
        "import os\n",
        "import cv2\n",
        "from matplotlib import image"
      ],
      "execution_count": 0,
      "outputs": []
    },
    {
      "cell_type": "markdown",
      "metadata": {
        "id": "Q6y5QnHK3NDi",
        "colab_type": "text"
      },
      "source": [
        "# Hyperparameters"
      ]
    },
    {
      "cell_type": "code",
      "metadata": {
        "id": "XvhPK1xQO4RD",
        "colab_type": "code",
        "colab": {}
      },
      "source": [
        "#### HYPER PARAMETERS\n",
        "BATCH_SIZE = 50\n",
        "EPOCHS = 5000\n",
        "noise_dim = 100\n",
        "BUFFER_SIZE = 60000\n",
        "\n",
        "# Set to True if you want to load data and save models to Google Drive\n",
        "# Set to False if you want to load and save locally.\n",
        "load_data_from_Google_Drive = True\n",
        "\n",
        "# Name of dataset zip file without .zip extension\n",
        "Dataset = \"CT_COVID\"\n",
        "\n",
        "# We will reuse this seed overtime (so it's easier)\n",
        "# to visualize progress in the animated GIF)\n",
        "seed = tf.random.normal([1, noise_dim])"
      ],
      "execution_count": 0,
      "outputs": []
    },
    {
      "cell_type": "markdown",
      "metadata": {
        "id": "9jtxJweQ1YhW",
        "colab_type": "text"
      },
      "source": [
        "# Mount Google Drive\n",
        "To get access to dataset and for model saving  \n",
        "Runs IF `load_data_from_Google_Drive` is true"
      ]
    },
    {
      "cell_type": "code",
      "metadata": {
        "id": "u_s9V1T39SHO",
        "colab_type": "code",
        "colab": {}
      },
      "source": [
        "if load_data_from_Google_Drive:\n",
        "  from google.colab import drive\n",
        "  drive.mount('/content/gdrive')"
      ],
      "execution_count": 0,
      "outputs": []
    },
    {
      "cell_type": "markdown",
      "metadata": {
        "id": "IXwxDUBp1hKb",
        "colab_type": "text"
      },
      "source": [
        "# Unzip and create dataset with images"
      ]
    },
    {
      "cell_type": "markdown",
      "metadata": {
        "id": "NmyL0RYt1tXH",
        "colab_type": "text"
      },
      "source": [
        "Extract data from zip file.  \n",
        "Assumes all images are in \"My Drive\" that was mounted in the form of a zip file with name (without .zip extension) specified by \"Dataset\""
      ]
    },
    {
      "cell_type": "code",
      "metadata": {
        "id": "44zusYCR9Yya",
        "colab_type": "code",
        "colab": {}
      },
      "source": [
        "if load_data_from_Google_Drive:\n",
        "  filepath = \"/content/gdrive/My Drive/COVID-19-Affected Lung CT Generative Network\"\n",
        "  os.system(\"mkdir -p \\\"/content/gdrive/My Drive/COVID_GAN_Saved_Models\\\"\")\n",
        "  destination = \"/gdrive/Data\"\n",
        "  save_destination = \"/content/gdrive/My Drive/COVID_GAN_Saved_Models\"\n",
        "else:\n",
        "  filepath = os.getcwd()\n",
        "  destination = os.getcwd()+\"/Data\"\n",
        "  os.system(\"mkdir -p \"+os.getcwd()+\"/Saved_Models\")\n",
        "  save_destination = os.getcwd() + \"/Saved_Models\"\n",
        "\n",
        "# Will unzip the files so that you can see them..\n",
        "with zipfile.ZipFile(filepath+\"/\"+Dataset+\".zip\",\"r\") as z:\n",
        "    z.extractall(destination)"
      ],
      "execution_count": 0,
      "outputs": []
    },
    {
      "cell_type": "markdown",
      "metadata": {
        "id": "w7KaJlME2Rur",
        "colab_type": "text"
      },
      "source": [
        "Read image data in from unzipped directory"
      ]
    },
    {
      "cell_type": "code",
      "metadata": {
        "id": "vF2P92bL9yle",
        "colab_type": "code",
        "colab": {}
      },
      "source": [
        "# link used: https://www.pyimagesearch.com/2019/01/14/machine-learning-in-python/\n",
        "os.chdir(destination + \"/\" + Dataset)\n",
        "\n",
        "path = \"*.*\"\n",
        "data = []\n",
        "for file in glob.glob(path):\n",
        "  if(file.find(\"image_at_epoch\") == -1):\n",
        "    img_data = image.imread(file, 0)\n",
        "    data.append(img_data)  \n",
        "data = np.array(data)"
      ],
      "execution_count": 0,
      "outputs": []
    },
    {
      "cell_type": "markdown",
      "metadata": {
        "id": "Fk3oSuU72Xj1",
        "colab_type": "text"
      },
      "source": [
        "Convert images to proper size and format.  \n",
        "Also, add horizontally flipped image to double the size of the dataset"
      ]
    },
    {
      "cell_type": "code",
      "metadata": {
        "id": "byTCgz6Y--pT",
        "colab_type": "code",
        "colab": {}
      },
      "source": [
        "from skimage.color import rgb2gray\n",
        "WIDTH=128\n",
        "HEIGHT=128\n",
        "standardized_data = []\n",
        "for img in data:\n",
        "  img = rgb2gray(img)\n",
        "  img2 = np.flip(img, axis=1) ## ADD FLIPPED IMAGE FOR LARGER DATA SET\n",
        "  standardized_data.append(cv2.resize(img, (WIDTH,HEIGHT), interpolation=cv2.INTER_CUBIC).astype('float32'))\n",
        "  standardized_data.append(cv2.resize(img2, (WIDTH,HEIGHT), interpolation=cv2.INTER_CUBIC).astype('float32'))\n",
        "train_images = np.array(standardized_data)\n",
        "train_images = train_images.reshape(train_images.shape[0], 128,128,1).astype('float32')\n",
        "print(train_images.shape)"
      ],
      "execution_count": 0,
      "outputs": []
    },
    {
      "cell_type": "markdown",
      "metadata": {
        "id": "khnwXGxB2hmf",
        "colab_type": "text"
      },
      "source": [
        "Normalize Images to [-1,1]"
      ]
    },
    {
      "cell_type": "code",
      "metadata": {
        "id": "x8dTxPWrO04X",
        "colab_type": "code",
        "colab": {}
      },
      "source": [
        "train_images = (train_images - 127.5) / 127.5  # Normalize the images to [-1, 1]\n",
        "checker = train_images # np.reshape(train_images, (2164,28,28))\n",
        "plt.imshow(checker[5,:,:,0])\n",
        "\n",
        "os.system(\"rm -r \\\"\"+destination+\"\\\"\")"
      ],
      "execution_count": 0,
      "outputs": []
    },
    {
      "cell_type": "markdown",
      "metadata": {
        "id": "AwUfGsvv2xKc",
        "colab_type": "text"
      },
      "source": [
        "# Defining the Model"
      ]
    },
    {
      "cell_type": "code",
      "metadata": {
        "id": "FkH3lliIo9gA",
        "colab_type": "code",
        "colab": {}
      },
      "source": [
        "def make_generator_model():\n",
        "    model = tf.keras.Sequential()\n",
        "    model.add(layers.Dense(4*4*1024, use_bias=False, input_shape=(100,)))\n",
        "    model.add(layers.BatchNormalization())\n",
        "    model.add(layers.LeakyReLU())\n",
        "\n",
        "    model.add(layers.Reshape((4, 4, 1024)))\n",
        "    assert model.output_shape == (None, 4, 4, 1024) # Note: None is the batch size\n",
        "\n",
        "    model.add(layers.Conv2DTranspose(512, (5, 5), strides=(2, 2), padding='same', use_bias=False))\n",
        "    assert model.output_shape == (None, 8, 8, 512)\n",
        "    model.add(layers.BatchNormalization())\n",
        "    model.add(layers.LeakyReLU())\n",
        "\n",
        "    model.add(layers.Conv2DTranspose(256, (5, 5), strides=(2, 2), padding='same', use_bias=False))\n",
        "    assert model.output_shape == (None, 16, 16, 256)\n",
        "    model.add(layers.BatchNormalization())\n",
        "    model.add(layers.LeakyReLU())\n",
        "\n",
        "    model.add(layers.Conv2DTranspose(128, (5, 5), strides=(2, 2), padding='same', use_bias=False))\n",
        "    assert model.output_shape == (None, 32, 32, 128)\n",
        "    model.add(layers.BatchNormalization())\n",
        "    model.add(layers.LeakyReLU())\n",
        "\n",
        "    model.add(layers.Conv2DTranspose(64, (5, 5), strides=(2, 2), padding='same', use_bias=False))\n",
        "    assert model.output_shape == (None, 64, 64, 64)\n",
        "    model.add(layers.BatchNormalization())\n",
        "    model.add(layers.LeakyReLU())\n",
        "\n",
        "    model.add(layers.Conv2DTranspose(1, (5, 5), strides=(2, 2), padding='same', use_bias=False))\n",
        "    assert model.output_shape == (None, 128, 128, 1)\n",
        "\n",
        "    model.add(layers.Flatten())\n",
        "    model.add(layers.Dense(128*128, use_bias=False, activation = 'tanh'))\n",
        "    model.add(layers.Reshape((128,128,1)))\n",
        "    print(model.output_shape)\n",
        "\n",
        "    return model"
      ],
      "execution_count": 0,
      "outputs": []
    },
    {
      "cell_type": "code",
      "metadata": {
        "id": "sGYTxmWjtv9L",
        "colab_type": "code",
        "colab": {}
      },
      "source": [
        "def make_discriminator_model():\n",
        "    model = tf.keras.Sequential()\n",
        "    model.add(layers.Conv2D(64, (5, 5), strides=(2, 2), padding='same',\n",
        "                                     input_shape=[128, 128, 1]))\n",
        "    assert model.output_shape == (None, 64, 64, 64)\n",
        "    model.add(layers.LeakyReLU(0.2))\n",
        "    model.add(layers.Dropout(0.3))\n",
        "\n",
        "    model.add(layers.Conv2D(128, (5, 5), strides=(2, 2), padding='same'))\n",
        "    assert model.output_shape == (None, 32, 32, 128)\n",
        "    model.add(layers.LeakyReLU(0.2))\n",
        "    model.add(layers.Dropout(0.3))\n",
        "\n",
        "    model.add(layers.Conv2D(256, (5, 5), strides=(2, 2), padding='same'))\n",
        "    assert model.output_shape == (None, 16, 16, 256)\n",
        "    model.add(layers.LeakyReLU(0.2))\n",
        "    model.add(layers.Dropout(0.3))\n",
        "\n",
        "    model.add(layers.Conv2D(512, (5, 5), strides=(2, 2), padding='same'))\n",
        "    assert model.output_shape == (None, 8, 8, 512)\n",
        "    model.add(layers.LeakyReLU(0.2))\n",
        "    model.add(layers.Dropout(0.3))\n",
        "\n",
        "    model.add(layers.Conv2D(1024, (5, 5), strides=(2, 2), padding='same'))\n",
        "    assert model.output_shape == (None, 4, 4, 1024)\n",
        "    model.add(layers.LeakyReLU(0.2))\n",
        "    model.add(layers.Dropout(0.3))\n",
        "\n",
        "    model.add(layers.Flatten())\n",
        "    model.add(layers.Dropout(0.3))\n",
        "    model.add(layers.Dense(64))\n",
        "    model.add(layers.Dense(32))\n",
        "    model.add(layers.Dense(16))\n",
        "    model.add(layers.Dense(1, activation=\"sigmoid\"))\n",
        "\n",
        "    opt = tf.keras.optimizers.Adam(1e-4)\n",
        "    model.compile(loss = 'binary_crossentropy', optimizer=opt, metrics=['accuracy'])\n",
        "    return model"
      ],
      "execution_count": 0,
      "outputs": []
    },
    {
      "cell_type": "code",
      "metadata": {
        "id": "Yrtla8R6_mNs",
        "colab_type": "code",
        "colab": {}
      },
      "source": [
        "def make_gan(g_model, d_model):\n",
        "  d_model.trainable = False\n",
        "  model = tf.keras.Sequential()\n",
        "  model.add(g_model)\n",
        "  model.add(d_model)\n",
        "\n",
        "  opt = tf.keras.optimizers.Adam(1e-4)\n",
        "  model.compile(loss='binary_crossentropy', optimizer=opt)\n",
        "  return model"
      ],
      "execution_count": 0,
      "outputs": []
    },
    {
      "cell_type": "code",
      "metadata": {
        "id": "od4zMOacApwG",
        "colab_type": "code",
        "colab": {}
      },
      "source": [
        "def generate_real_samples(dataset, n_samples):\n",
        "  ix = np.random.randint(0, dataset.shape[0], n_samples)\n",
        "  X = dataset[ix]\n",
        "  y = np.ones((n_samples, 1))\n",
        "  return X,y"
      ],
      "execution_count": 0,
      "outputs": []
    },
    {
      "cell_type": "code",
      "metadata": {
        "id": "YRU3AMIuBJ8r",
        "colab_type": "code",
        "colab": {}
      },
      "source": [
        "def generate_latent_points(latent_dim, n_samples):\n",
        "  x_input = np.random.randn(latent_dim*n_samples)\n",
        "  x_input = x_input.reshape(n_samples, latent_dim)\n",
        "  return x_input"
      ],
      "execution_count": 0,
      "outputs": []
    },
    {
      "cell_type": "code",
      "metadata": {
        "id": "g3_22uu0BXTW",
        "colab_type": "code",
        "colab": {}
      },
      "source": [
        "def generate_fake_samples(g_model, latent_dim, n_samples):\n",
        "  x_input = generate_latent_points(latent_dim, n_samples)\n",
        "  X = g_model.predict(x_input)\n",
        "  y = np.zeros((n_samples, 1))\n",
        "  return X,y"
      ],
      "execution_count": 0,
      "outputs": []
    },
    {
      "cell_type": "markdown",
      "metadata": {
        "id": "AkpYKpy524Nn",
        "colab_type": "text"
      },
      "source": [
        "# Define Training Protocol"
      ]
    },
    {
      "cell_type": "code",
      "metadata": {
        "id": "jmSuRs4RBuib",
        "colab_type": "code",
        "colab": {}
      },
      "source": [
        "def train(g_model, d_model, gan_model, dataset, latent_dim, n_epochs, batch_size):\n",
        "  genLoss = 0\n",
        "  discLoss = 0\n",
        "  batch_per_epoch = int(dataset.shape[0]/batch_size)\n",
        "  half_batch = int(batch_size/2)\n",
        "  best_g_model = g_model\n",
        "  best_genLoss = 10\n",
        "  for epoch in range(n_epochs):\n",
        "    start = time.time()\n",
        "    for i in range(batch_per_epoch):\n",
        "      X_real, y_real = generate_real_samples(dataset,half_batch)\n",
        "      d_loss1, _ = d_model.train_on_batch(X_real, y_real)\n",
        "\n",
        "      X_fake, y_fake = generate_fake_samples(g_model, latent_dim, half_batch)\n",
        "      d_loss2, _ = d_model.train_on_batch(X_fake, y_fake)\n",
        "\n",
        "      discLoss = (d_loss1 + d_loss2)/2\n",
        "\n",
        "      X_gan = generate_latent_points(latent_dim, batch_size)\n",
        "      y_gan = np.ones((batch_size, 1))\n",
        "      genLoss = gan_model.train_on_batch(X_gan, y_gan)\n",
        "  \n",
        "    # Produce images for the GIF as we go\n",
        "    display.clear_output(wait=True)\n",
        "    generate_and_save_images(g_model,\n",
        "                             epoch + 1,\n",
        "                             seed)\n",
        "    \n",
        "    ### PERFORMANCE CHECK\n",
        "    X_real, y_real = generate_real_samples(dataset, 100)\n",
        "    _, acc_real = d_model.evaluate(X_real, y_real, verbose=0)\n",
        "    X_fake, y_fake = generate_fake_samples(g_model, latent_dim, 100)\n",
        "    _, acc_fake = d_model.evaluate(X_fake, y_fake, verbose=0)\n",
        "    print(\"Disc Accuracy Real: %.5f, fake: %.5f\" % (acc_real, acc_fake))\n",
        "    print(\"genloss: {} discloss: {}\".format(genLoss, discLoss))\n",
        "    if (epoch > 2./3. * n_epochs):\n",
        "      if (genLoss < best_genLoss and acc_real > 0.9 and acc_fake > 0.9):\n",
        "        best_genLoss = genLoss\n",
        "        best_g_model = g_model\n",
        "\n",
        "    # Save the model every 100 epochs\n",
        "    if epoch%100 == 0:\n",
        "      g_model.save(save_destination+\"/generator_intermediate.h5\")\n",
        "      d_model.save(save_destination+\"/discriminator_intermediate.h5\")\n",
        "\n",
        "    genloss.append(genLoss)\n",
        "    discloss.append(discLoss)\n",
        "    accReal.append(acc_real)\n",
        "    accFake.append(acc_fake)\n",
        "    print ('Time for epoch {} is {} sec'.format(epoch + 1, time.time()-start))\n",
        "  \n",
        "  # Generate after the final epoch\n",
        "  display.clear_output(wait=True)\n",
        "  generate_and_save_images(g_model,\n",
        "                           n_epochs,\n",
        "                           seed)\n",
        "  return best_g_model"
      ],
      "execution_count": 0,
      "outputs": []
    },
    {
      "cell_type": "code",
      "metadata": {
        "id": "59xNCCtxP6A6",
        "colab_type": "code",
        "colab": {}
      },
      "source": [
        "def generate_and_save_images(model, epoch, test_input):\n",
        "  # Notice `training` is set to False.\n",
        "  # This is so all layers run in inference mode (batchnorm).\n",
        "  predictions = model(test_input, training=False)\n",
        "\n",
        "  fig = plt.figure(figsize=(4,4))\n",
        "\n",
        "  for i in range(predictions.shape[0]):\n",
        "      plt.subplot(4, 4, i+1)\n",
        "      plt.imshow(predictions[i, :, :, 0] * 127.5 + 127.5, cmap='gray')\n",
        "      plt.axis('off')\n",
        "  plt.show()"
      ],
      "execution_count": 0,
      "outputs": []
    },
    {
      "cell_type": "markdown",
      "metadata": {
        "id": "h2SUnR45zFxt",
        "colab_type": "text"
      },
      "source": [
        "# Perform Training"
      ]
    },
    {
      "cell_type": "code",
      "metadata": {
        "id": "Kf8uy4nKP8h5",
        "colab_type": "code",
        "colab": {}
      },
      "source": [
        "genloss = []\n",
        "discloss = []\n",
        "accReal = []\n",
        "accFake = []\n",
        "d_model = make_discriminator_model()\n",
        "g_model = make_generator_model()\n",
        "gan_model = make_gan(g_model, d_model)\n",
        "generator = train(g_model, d_model, gan_model, train_images, noise_dim, EPOCHS, BATCH_SIZE)\n",
        "\n",
        "g_model.save(save_destination+\"/generator_final.h5\")\n",
        "d_model.save(save_destination+\"/discriminator_final.h5\")\n",
        "gan_model.save(save_destination+\"/gan_final.h5\")"
      ],
      "execution_count": 0,
      "outputs": []
    },
    {
      "cell_type": "markdown",
      "metadata": {
        "id": "vRP6SlIv3B2k",
        "colab_type": "text"
      },
      "source": [
        "# Explore Results"
      ]
    },
    {
      "cell_type": "markdown",
      "metadata": {
        "id": "LUb145zA3DUe",
        "colab_type": "text"
      },
      "source": [
        "Line Plots of the generator and discriminator loss over epochs"
      ]
    },
    {
      "cell_type": "code",
      "metadata": {
        "id": "ulUlCBDPVty5",
        "colab_type": "code",
        "colab": {}
      },
      "source": [
        "plt.plot(range(EPOCHS), discloss, label='disc loss')\n",
        "plt.plot(range(EPOCHS), genloss, label='gen loss')\n",
        "plt.xlabel('Epoch')\n",
        "plt.ylim(-1,5)\n",
        "plt.ylabel('Loss value') \n",
        "plt.legend()\n",
        "plt.show()"
      ],
      "execution_count": 0,
      "outputs": []
    },
    {
      "cell_type": "markdown",
      "metadata": {
        "id": "Xb4_4hc63xm3",
        "colab_type": "text"
      },
      "source": [
        "Line Plots of the discrimiantor accuracy on real and fake images over epochs"
      ]
    },
    {
      "cell_type": "code",
      "metadata": {
        "id": "TGZghG4CribN",
        "colab_type": "code",
        "colab": {}
      },
      "source": [
        "plt.plot(range(EPOCHS), accReal, label='accuracy Real')\n",
        "plt.plot(range(EPOCHS), accFake, label='accuracy Fake')\n",
        "plt.xlabel('Epoch')\n",
        "plt.ylim(0,1)\n",
        "plt.ylabel('Accuracy')\n",
        "plt.legend()\n",
        "plt.show()"
      ],
      "execution_count": 0,
      "outputs": []
    },
    {
      "cell_type": "markdown",
      "metadata": {
        "id": "QqgUNhLK39Pn",
        "colab_type": "text"
      },
      "source": [
        "Generate Random Images"
      ]
    },
    {
      "cell_type": "code",
      "metadata": {
        "id": "keOfh9dhQf6V",
        "colab_type": "code",
        "colab": {
          "base_uri": "https://localhost:8080/",
          "height": 268
        },
        "outputId": "9cf7069a-ab55-43dd-8b86-182edbd63651"
      },
      "source": [
        "noise = tf.random.normal([1, 100])\n",
        "generated_image0 = generator.predict(noise)\n",
        "\n",
        "plt.imshow(generated_image0[0, :, :, 0], cmap='gray')\n",
        "plt.show()"
      ],
      "execution_count": 21,
      "outputs": [
        {
          "output_type": "display_data",
          "data": {
            "image/png": "[encoded data removed]",
            "text/plain": [
              "<Figure size 432x288 with 1 Axes>"
            ]
          },
          "metadata": {
            "tags": [],
            "needs_background": "light"
          }
        }
      ]
    }
  ]
}